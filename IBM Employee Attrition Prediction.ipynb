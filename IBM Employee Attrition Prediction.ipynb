{
 "cells": [
  {
   "cell_type": "code",
   "execution_count": 1,
   "id": "21dc6895",
   "metadata": {},
   "outputs": [],
   "source": [
    "import pandas as pd\n",
    "import numpy as np\n",
    "import tensorflow as tf\n",
    "import matplotlib.pyplot as plt\n",
    "%matplotlib inline\n",
    "from patsy import dmatrices\n",
    "import sklearn\n",
    "import seaborn as sns"
   ]
  },
  {
   "cell_type": "code",
   "execution_count": 2,
   "id": "2cf8c1a3",
   "metadata": {},
   "outputs": [],
   "source": [
    "dataframe = pd.read_csv(\"IBM Attrition Data.csv\")"
   ]
  },
  {
   "cell_type": "code",
   "execution_count": 3,
   "id": "0a76bdfa",
   "metadata": {},
   "outputs": [
    {
     "data": {
      "text/html": [
       "<div>\n",
       "<style scoped>\n",
       "    .dataframe tbody tr th:only-of-type {\n",
       "        vertical-align: middle;\n",
       "    }\n",
       "\n",
       "    .dataframe tbody tr th {\n",
       "        vertical-align: top;\n",
       "    }\n",
       "\n",
       "    .dataframe thead th {\n",
       "        text-align: right;\n",
       "    }\n",
       "</style>\n",
       "<table border=\"1\" class=\"dataframe\">\n",
       "  <thead>\n",
       "    <tr style=\"text-align: right;\">\n",
       "      <th></th>\n",
       "      <th>Age</th>\n",
       "      <th>Attrition</th>\n",
       "      <th>Department</th>\n",
       "      <th>DistanceFromHome</th>\n",
       "      <th>Education</th>\n",
       "      <th>EducationField</th>\n",
       "      <th>EnvironmentSatisfaction</th>\n",
       "      <th>JobSatisfaction</th>\n",
       "      <th>MaritalStatus</th>\n",
       "      <th>MonthlyIncome</th>\n",
       "      <th>NumCompaniesWorked</th>\n",
       "      <th>WorkLifeBalance</th>\n",
       "      <th>YearsAtCompany</th>\n",
       "    </tr>\n",
       "  </thead>\n",
       "  <tbody>\n",
       "    <tr>\n",
       "      <th>0</th>\n",
       "      <td>41</td>\n",
       "      <td>Yes</td>\n",
       "      <td>Sales</td>\n",
       "      <td>1</td>\n",
       "      <td>2</td>\n",
       "      <td>Life Sciences</td>\n",
       "      <td>2</td>\n",
       "      <td>4</td>\n",
       "      <td>Single</td>\n",
       "      <td>5993</td>\n",
       "      <td>8</td>\n",
       "      <td>1</td>\n",
       "      <td>6</td>\n",
       "    </tr>\n",
       "    <tr>\n",
       "      <th>1</th>\n",
       "      <td>49</td>\n",
       "      <td>No</td>\n",
       "      <td>Research &amp; Development</td>\n",
       "      <td>8</td>\n",
       "      <td>1</td>\n",
       "      <td>Life Sciences</td>\n",
       "      <td>3</td>\n",
       "      <td>2</td>\n",
       "      <td>Married</td>\n",
       "      <td>5130</td>\n",
       "      <td>1</td>\n",
       "      <td>3</td>\n",
       "      <td>10</td>\n",
       "    </tr>\n",
       "    <tr>\n",
       "      <th>2</th>\n",
       "      <td>37</td>\n",
       "      <td>Yes</td>\n",
       "      <td>Research &amp; Development</td>\n",
       "      <td>2</td>\n",
       "      <td>2</td>\n",
       "      <td>Other</td>\n",
       "      <td>4</td>\n",
       "      <td>3</td>\n",
       "      <td>Single</td>\n",
       "      <td>2090</td>\n",
       "      <td>6</td>\n",
       "      <td>3</td>\n",
       "      <td>0</td>\n",
       "    </tr>\n",
       "    <tr>\n",
       "      <th>3</th>\n",
       "      <td>33</td>\n",
       "      <td>No</td>\n",
       "      <td>Research &amp; Development</td>\n",
       "      <td>3</td>\n",
       "      <td>4</td>\n",
       "      <td>Life Sciences</td>\n",
       "      <td>4</td>\n",
       "      <td>3</td>\n",
       "      <td>Married</td>\n",
       "      <td>2909</td>\n",
       "      <td>1</td>\n",
       "      <td>3</td>\n",
       "      <td>8</td>\n",
       "    </tr>\n",
       "    <tr>\n",
       "      <th>4</th>\n",
       "      <td>27</td>\n",
       "      <td>No</td>\n",
       "      <td>Research &amp; Development</td>\n",
       "      <td>2</td>\n",
       "      <td>1</td>\n",
       "      <td>Medical</td>\n",
       "      <td>1</td>\n",
       "      <td>2</td>\n",
       "      <td>Married</td>\n",
       "      <td>3468</td>\n",
       "      <td>9</td>\n",
       "      <td>3</td>\n",
       "      <td>2</td>\n",
       "    </tr>\n",
       "  </tbody>\n",
       "</table>\n",
       "</div>"
      ],
      "text/plain": [
       "   Age Attrition              Department  DistanceFromHome  Education  \\\n",
       "0   41       Yes                   Sales                 1          2   \n",
       "1   49        No  Research & Development                 8          1   \n",
       "2   37       Yes  Research & Development                 2          2   \n",
       "3   33        No  Research & Development                 3          4   \n",
       "4   27        No  Research & Development                 2          1   \n",
       "\n",
       "  EducationField  EnvironmentSatisfaction  JobSatisfaction MaritalStatus  \\\n",
       "0  Life Sciences                        2                4        Single   \n",
       "1  Life Sciences                        3                2       Married   \n",
       "2          Other                        4                3        Single   \n",
       "3  Life Sciences                        4                3       Married   \n",
       "4        Medical                        1                2       Married   \n",
       "\n",
       "   MonthlyIncome  NumCompaniesWorked  WorkLifeBalance  YearsAtCompany  \n",
       "0           5993                   8                1               6  \n",
       "1           5130                   1                3              10  \n",
       "2           2090                   6                3               0  \n",
       "3           2909                   1                3               8  \n",
       "4           3468                   9                3               2  "
      ]
     },
     "execution_count": 3,
     "metadata": {},
     "output_type": "execute_result"
    }
   ],
   "source": [
    "dataframe.head()"
   ]
  },
  {
   "cell_type": "code",
   "execution_count": 4,
   "id": "5a6ba823",
   "metadata": {},
   "outputs": [
    {
     "name": "stdout",
     "output_type": "stream",
     "text": [
      "['Age' 'Attrition' 'Department' 'DistanceFromHome' 'Education'\n",
      " 'EducationField' 'EnvironmentSatisfaction' 'JobSatisfaction'\n",
      " 'MaritalStatus' 'MonthlyIncome' 'NumCompaniesWorked' 'WorkLifeBalance'\n",
      " 'YearsAtCompany']\n"
     ]
    }
   ],
   "source": [
    "names = dataframe.columns.values\n",
    "print(names)"
   ]
  },
  {
   "cell_type": "code",
   "execution_count": 5,
   "id": "cbf49744",
   "metadata": {},
   "outputs": [
    {
     "data": {
      "image/png": "[encoded data removed]",
      "text/plain": [
       "<Figure size 1000x800 with 1 Axes>"
      ]
     },
     "metadata": {},
     "output_type": "display_data"
    }
   ],
   "source": [
    "# histogram for age\n",
    "plt.figure(figsize=(10,8))\n",
    "dataframe['Age'].hist(bins=70)\n",
    "plt.title(\"Age distribution of Employees\")\n",
    "plt.xlabel(\"Age\")\n",
    "plt.ylabel(\"# of Employees\")\n",
    "plt.show()"
   ]
  },
  {
   "cell_type": "code",
   "execution_count": 6,
   "id": "705d72bb",
   "metadata": {},
   "outputs": [
    {
     "data": {
      "image/png": "[encoded data removed]",
      "text/plain": [
       "<Figure size 800x600 with 1 Axes>"
      ]
     },
     "metadata": {},
     "output_type": "display_data"
    }
   ],
   "source": [
    "# explore data for left employees breakdown\n",
    "plt.figure(figsize=(8,6))\n",
    "dataframe.Attrition.value_counts().plot(kind='barh',color='blue',alpha=.65)\n",
    "plt.title(\"Attrition breakdown\")\n",
    "plt.show()"
   ]
  },
  {
   "cell_type": "code",
   "execution_count": 7,
   "id": "a1a9f991",
   "metadata": {},
   "outputs": [
    {
     "data": {
      "image/png": "[encoded data removed]",
      "text/plain": [
       "<Figure size 1000x800 with 1 Axes>"
      ]
     },
     "metadata": {},
     "output_type": "display_data"
    }
   ],
   "source": [
    "# explore data for Education Field distribution\n",
    "plt.figure(figsize=(10,8))\n",
    "dataframe.EducationField.value_counts().plot(kind='barh',color='g',alpha=.65)\n",
    "plt.title(\"Education Field Distribution\")\n",
    "plt.show()"
   ]
  },
  {
   "cell_type": "code",
   "execution_count": 8,
   "id": "0a1c2230",
   "metadata": {},
   "outputs": [
    {
     "data": {
      "image/png": "[encoded data removed]",
      "text/plain": [
       "<Figure size 800x600 with 1 Axes>"
      ]
     },
     "metadata": {},
     "output_type": "display_data"
    }
   ],
   "source": [
    "# explore data for Marital Status\n",
    "plt.figure(figsize=(8,6))\n",
    "dataframe.MaritalStatus.value_counts().plot(kind='bar',alpha=.5)\n",
    "plt.show()"
   ]
  },
  {
   "cell_type": "code",
   "execution_count": 9,
   "id": "ff5b702b",
   "metadata": {},
   "outputs": [
    {
     "data": {
      "text/html": [
       "<div>\n",
       "<style scoped>\n",
       "    .dataframe tbody tr th:only-of-type {\n",
       "        vertical-align: middle;\n",
       "    }\n",
       "\n",
       "    .dataframe tbody tr th {\n",
       "        vertical-align: top;\n",
       "    }\n",
       "\n",
       "    .dataframe thead th {\n",
       "        text-align: right;\n",
       "    }\n",
       "</style>\n",
       "<table border=\"1\" class=\"dataframe\">\n",
       "  <thead>\n",
       "    <tr style=\"text-align: right;\">\n",
       "      <th></th>\n",
       "      <th>Age</th>\n",
       "      <th>DistanceFromHome</th>\n",
       "      <th>Education</th>\n",
       "      <th>EnvironmentSatisfaction</th>\n",
       "      <th>JobSatisfaction</th>\n",
       "      <th>MonthlyIncome</th>\n",
       "      <th>NumCompaniesWorked</th>\n",
       "      <th>WorkLifeBalance</th>\n",
       "      <th>YearsAtCompany</th>\n",
       "    </tr>\n",
       "  </thead>\n",
       "  <tbody>\n",
       "    <tr>\n",
       "      <th>count</th>\n",
       "      <td>1470.000000</td>\n",
       "      <td>1470.000000</td>\n",
       "      <td>1470.000000</td>\n",
       "      <td>1470.000000</td>\n",
       "      <td>1470.000000</td>\n",
       "      <td>1470.000000</td>\n",
       "      <td>1470.000000</td>\n",
       "      <td>1470.000000</td>\n",
       "      <td>1470.000000</td>\n",
       "    </tr>\n",
       "    <tr>\n",
       "      <th>mean</th>\n",
       "      <td>36.923810</td>\n",
       "      <td>9.192517</td>\n",
       "      <td>2.912925</td>\n",
       "      <td>2.721769</td>\n",
       "      <td>2.728571</td>\n",
       "      <td>6502.931293</td>\n",
       "      <td>2.693197</td>\n",
       "      <td>2.761224</td>\n",
       "      <td>7.008163</td>\n",
       "    </tr>\n",
       "    <tr>\n",
       "      <th>std</th>\n",
       "      <td>9.135373</td>\n",
       "      <td>8.106864</td>\n",
       "      <td>1.024165</td>\n",
       "      <td>1.093082</td>\n",
       "      <td>1.102846</td>\n",
       "      <td>4707.956783</td>\n",
       "      <td>2.498009</td>\n",
       "      <td>0.706476</td>\n",
       "      <td>6.126525</td>\n",
       "    </tr>\n",
       "    <tr>\n",
       "      <th>min</th>\n",
       "      <td>18.000000</td>\n",
       "      <td>1.000000</td>\n",
       "      <td>1.000000</td>\n",
       "      <td>1.000000</td>\n",
       "      <td>1.000000</td>\n",
       "      <td>1009.000000</td>\n",
       "      <td>0.000000</td>\n",
       "      <td>1.000000</td>\n",
       "      <td>0.000000</td>\n",
       "    </tr>\n",
       "    <tr>\n",
       "      <th>25%</th>\n",
       "      <td>30.000000</td>\n",
       "      <td>2.000000</td>\n",
       "      <td>2.000000</td>\n",
       "      <td>2.000000</td>\n",
       "      <td>2.000000</td>\n",
       "      <td>2911.000000</td>\n",
       "      <td>1.000000</td>\n",
       "      <td>2.000000</td>\n",
       "      <td>3.000000</td>\n",
       "    </tr>\n",
       "    <tr>\n",
       "      <th>50%</th>\n",
       "      <td>36.000000</td>\n",
       "      <td>7.000000</td>\n",
       "      <td>3.000000</td>\n",
       "      <td>3.000000</td>\n",
       "      <td>3.000000</td>\n",
       "      <td>4919.000000</td>\n",
       "      <td>2.000000</td>\n",
       "      <td>3.000000</td>\n",
       "      <td>5.000000</td>\n",
       "    </tr>\n",
       "    <tr>\n",
       "      <th>75%</th>\n",
       "      <td>43.000000</td>\n",
       "      <td>14.000000</td>\n",
       "      <td>4.000000</td>\n",
       "      <td>4.000000</td>\n",
       "      <td>4.000000</td>\n",
       "      <td>8379.000000</td>\n",
       "      <td>4.000000</td>\n",
       "      <td>3.000000</td>\n",
       "      <td>9.000000</td>\n",
       "    </tr>\n",
       "    <tr>\n",
       "      <th>max</th>\n",
       "      <td>60.000000</td>\n",
       "      <td>29.000000</td>\n",
       "      <td>5.000000</td>\n",
       "      <td>4.000000</td>\n",
       "      <td>4.000000</td>\n",
       "      <td>19999.000000</td>\n",
       "      <td>9.000000</td>\n",
       "      <td>4.000000</td>\n",
       "      <td>40.000000</td>\n",
       "    </tr>\n",
       "  </tbody>\n",
       "</table>\n",
       "</div>"
      ],
      "text/plain": [
       "               Age  DistanceFromHome    Education  EnvironmentSatisfaction  \\\n",
       "count  1470.000000       1470.000000  1470.000000              1470.000000   \n",
       "mean     36.923810          9.192517     2.912925                 2.721769   \n",
       "std       9.135373          8.106864     1.024165                 1.093082   \n",
       "min      18.000000          1.000000     1.000000                 1.000000   \n",
       "25%      30.000000          2.000000     2.000000                 2.000000   \n",
       "50%      36.000000          7.000000     3.000000                 3.000000   \n",
       "75%      43.000000         14.000000     4.000000                 4.000000   \n",
       "max      60.000000         29.000000     5.000000                 4.000000   \n",
       "\n",
       "       JobSatisfaction  MonthlyIncome  NumCompaniesWorked  WorkLifeBalance  \\\n",
       "count      1470.000000    1470.000000         1470.000000      1470.000000   \n",
       "mean          2.728571    6502.931293            2.693197         2.761224   \n",
       "std           1.102846    4707.956783            2.498009         0.706476   \n",
       "min           1.000000    1009.000000            0.000000         1.000000   \n",
       "25%           2.000000    2911.000000            1.000000         2.000000   \n",
       "50%           3.000000    4919.000000            2.000000         3.000000   \n",
       "75%           4.000000    8379.000000            4.000000         3.000000   \n",
       "max           4.000000   19999.000000            9.000000         4.000000   \n",
       "\n",
       "       YearsAtCompany  \n",
       "count     1470.000000  \n",
       "mean         7.008163  \n",
       "std          6.126525  \n",
       "min          0.000000  \n",
       "25%          3.000000  \n",
       "50%          5.000000  \n",
       "75%          9.000000  \n",
       "max         40.000000  "
      ]
     },
     "execution_count": 9,
     "metadata": {},
     "output_type": "execute_result"
    }
   ],
   "source": [
    "dataframe.describe()"
   ]
  },
  {
   "cell_type": "code",
   "execution_count": 10,
   "id": "80b6bc35",
   "metadata": {},
   "outputs": [
    {
     "name": "stdout",
     "output_type": "stream",
     "text": [
      "<class 'pandas.core.frame.DataFrame'>\n",
      "RangeIndex: 1470 entries, 0 to 1469\n",
      "Data columns (total 13 columns):\n",
      " #   Column                   Non-Null Count  Dtype \n",
      "---  ------                   --------------  ----- \n",
      " 0   Age                      1470 non-null   int64 \n",
      " 1   Attrition                1470 non-null   object\n",
      " 2   Department               1470 non-null   object\n",
      " 3   DistanceFromHome         1470 non-null   int64 \n",
      " 4   Education                1470 non-null   int64 \n",
      " 5   EducationField           1470 non-null   object\n",
      " 6   EnvironmentSatisfaction  1470 non-null   int64 \n",
      " 7   JobSatisfaction          1470 non-null   int64 \n",
      " 8   MaritalStatus            1470 non-null   object\n",
      " 9   MonthlyIncome            1470 non-null   int64 \n",
      " 10  NumCompaniesWorked       1470 non-null   int64 \n",
      " 11  WorkLifeBalance          1470 non-null   int64 \n",
      " 12  YearsAtCompany           1470 non-null   int64 \n",
      "dtypes: int64(9), object(4)\n",
      "memory usage: 149.4+ KB\n"
     ]
    }
   ],
   "source": [
    "dataframe.info()"
   ]
  },
  {
   "cell_type": "code",
   "execution_count": 11,
   "id": "1d4d51b2",
   "metadata": {},
   "outputs": [
    {
     "data": {
      "text/plain": [
       "Index(['Age', 'Attrition', 'Department', 'DistanceFromHome', 'Education',\n",
       "       'EducationField', 'EnvironmentSatisfaction', 'JobSatisfaction',\n",
       "       'MaritalStatus', 'MonthlyIncome', 'NumCompaniesWorked',\n",
       "       'WorkLifeBalance', 'YearsAtCompany'],\n",
       "      dtype='object')"
      ]
     },
     "execution_count": 11,
     "metadata": {},
     "output_type": "execute_result"
    }
   ],
   "source": [
    "dataframe.columns"
   ]
  },
  {
   "cell_type": "code",
   "execution_count": 12,
   "id": "d4a62fda",
   "metadata": {},
   "outputs": [
    {
     "data": {
      "text/plain": [
       "Attrition\n",
       "No     1233\n",
       "Yes     237\n",
       "Name: count, dtype: int64"
      ]
     },
     "execution_count": 12,
     "metadata": {},
     "output_type": "execute_result"
    }
   ],
   "source": [
    "dataframe['Attrition'].value_counts()"
   ]
  },
  {
   "cell_type": "code",
   "execution_count": 13,
   "id": "2ae48795",
   "metadata": {},
   "outputs": [
    {
     "data": {
      "text/plain": [
       "dtype('O')"
      ]
     },
     "execution_count": 13,
     "metadata": {},
     "output_type": "execute_result"
    }
   ],
   "source": [
    "dataframe['Attrition'].dtypes"
   ]
  },
  {
   "cell_type": "code",
   "execution_count": 14,
   "id": "c14c2409",
   "metadata": {},
   "outputs": [],
   "source": [
    "dataframe['Attrition'].replace('Yes',1, inplace=True)\n",
    "dataframe['Attrition'].replace('No',0, inplace=True)"
   ]
  },
  {
   "cell_type": "code",
   "execution_count": 15,
   "id": "3244bef0",
   "metadata": {},
   "outputs": [
    {
     "data": {
      "text/html": [
       "<div>\n",
       "<style scoped>\n",
       "    .dataframe tbody tr th:only-of-type {\n",
       "        vertical-align: middle;\n",
       "    }\n",
       "\n",
       "    .dataframe tbody tr th {\n",
       "        vertical-align: top;\n",
       "    }\n",
       "\n",
       "    .dataframe thead th {\n",
       "        text-align: right;\n",
       "    }\n",
       "</style>\n",
       "<table border=\"1\" class=\"dataframe\">\n",
       "  <thead>\n",
       "    <tr style=\"text-align: right;\">\n",
       "      <th></th>\n",
       "      <th>Age</th>\n",
       "      <th>Attrition</th>\n",
       "      <th>Department</th>\n",
       "      <th>DistanceFromHome</th>\n",
       "      <th>Education</th>\n",
       "      <th>EducationField</th>\n",
       "      <th>EnvironmentSatisfaction</th>\n",
       "      <th>JobSatisfaction</th>\n",
       "      <th>MaritalStatus</th>\n",
       "      <th>MonthlyIncome</th>\n",
       "      <th>NumCompaniesWorked</th>\n",
       "      <th>WorkLifeBalance</th>\n",
       "      <th>YearsAtCompany</th>\n",
       "    </tr>\n",
       "  </thead>\n",
       "  <tbody>\n",
       "    <tr>\n",
       "      <th>0</th>\n",
       "      <td>41</td>\n",
       "      <td>1</td>\n",
       "      <td>Sales</td>\n",
       "      <td>1</td>\n",
       "      <td>2</td>\n",
       "      <td>Life Sciences</td>\n",
       "      <td>2</td>\n",
       "      <td>4</td>\n",
       "      <td>Single</td>\n",
       "      <td>5993</td>\n",
       "      <td>8</td>\n",
       "      <td>1</td>\n",
       "      <td>6</td>\n",
       "    </tr>\n",
       "    <tr>\n",
       "      <th>1</th>\n",
       "      <td>49</td>\n",
       "      <td>0</td>\n",
       "      <td>Research &amp; Development</td>\n",
       "      <td>8</td>\n",
       "      <td>1</td>\n",
       "      <td>Life Sciences</td>\n",
       "      <td>3</td>\n",
       "      <td>2</td>\n",
       "      <td>Married</td>\n",
       "      <td>5130</td>\n",
       "      <td>1</td>\n",
       "      <td>3</td>\n",
       "      <td>10</td>\n",
       "    </tr>\n",
       "    <tr>\n",
       "      <th>2</th>\n",
       "      <td>37</td>\n",
       "      <td>1</td>\n",
       "      <td>Research &amp; Development</td>\n",
       "      <td>2</td>\n",
       "      <td>2</td>\n",
       "      <td>Other</td>\n",
       "      <td>4</td>\n",
       "      <td>3</td>\n",
       "      <td>Single</td>\n",
       "      <td>2090</td>\n",
       "      <td>6</td>\n",
       "      <td>3</td>\n",
       "      <td>0</td>\n",
       "    </tr>\n",
       "    <tr>\n",
       "      <th>3</th>\n",
       "      <td>33</td>\n",
       "      <td>0</td>\n",
       "      <td>Research &amp; Development</td>\n",
       "      <td>3</td>\n",
       "      <td>4</td>\n",
       "      <td>Life Sciences</td>\n",
       "      <td>4</td>\n",
       "      <td>3</td>\n",
       "      <td>Married</td>\n",
       "      <td>2909</td>\n",
       "      <td>1</td>\n",
       "      <td>3</td>\n",
       "      <td>8</td>\n",
       "    </tr>\n",
       "    <tr>\n",
       "      <th>4</th>\n",
       "      <td>27</td>\n",
       "      <td>0</td>\n",
       "      <td>Research &amp; Development</td>\n",
       "      <td>2</td>\n",
       "      <td>1</td>\n",
       "      <td>Medical</td>\n",
       "      <td>1</td>\n",
       "      <td>2</td>\n",
       "      <td>Married</td>\n",
       "      <td>3468</td>\n",
       "      <td>9</td>\n",
       "      <td>3</td>\n",
       "      <td>2</td>\n",
       "    </tr>\n",
       "    <tr>\n",
       "      <th>5</th>\n",
       "      <td>32</td>\n",
       "      <td>0</td>\n",
       "      <td>Research &amp; Development</td>\n",
       "      <td>2</td>\n",
       "      <td>2</td>\n",
       "      <td>Life Sciences</td>\n",
       "      <td>4</td>\n",
       "      <td>4</td>\n",
       "      <td>Single</td>\n",
       "      <td>3068</td>\n",
       "      <td>0</td>\n",
       "      <td>2</td>\n",
       "      <td>7</td>\n",
       "    </tr>\n",
       "    <tr>\n",
       "      <th>6</th>\n",
       "      <td>59</td>\n",
       "      <td>0</td>\n",
       "      <td>Research &amp; Development</td>\n",
       "      <td>3</td>\n",
       "      <td>3</td>\n",
       "      <td>Medical</td>\n",
       "      <td>3</td>\n",
       "      <td>1</td>\n",
       "      <td>Married</td>\n",
       "      <td>2670</td>\n",
       "      <td>4</td>\n",
       "      <td>2</td>\n",
       "      <td>1</td>\n",
       "    </tr>\n",
       "    <tr>\n",
       "      <th>7</th>\n",
       "      <td>30</td>\n",
       "      <td>0</td>\n",
       "      <td>Research &amp; Development</td>\n",
       "      <td>24</td>\n",
       "      <td>1</td>\n",
       "      <td>Life Sciences</td>\n",
       "      <td>4</td>\n",
       "      <td>3</td>\n",
       "      <td>Divorced</td>\n",
       "      <td>2693</td>\n",
       "      <td>1</td>\n",
       "      <td>3</td>\n",
       "      <td>1</td>\n",
       "    </tr>\n",
       "    <tr>\n",
       "      <th>8</th>\n",
       "      <td>38</td>\n",
       "      <td>0</td>\n",
       "      <td>Research &amp; Development</td>\n",
       "      <td>23</td>\n",
       "      <td>3</td>\n",
       "      <td>Life Sciences</td>\n",
       "      <td>4</td>\n",
       "      <td>3</td>\n",
       "      <td>Single</td>\n",
       "      <td>9526</td>\n",
       "      <td>0</td>\n",
       "      <td>3</td>\n",
       "      <td>9</td>\n",
       "    </tr>\n",
       "    <tr>\n",
       "      <th>9</th>\n",
       "      <td>36</td>\n",
       "      <td>0</td>\n",
       "      <td>Research &amp; Development</td>\n",
       "      <td>27</td>\n",
       "      <td>3</td>\n",
       "      <td>Medical</td>\n",
       "      <td>3</td>\n",
       "      <td>3</td>\n",
       "      <td>Married</td>\n",
       "      <td>5237</td>\n",
       "      <td>6</td>\n",
       "      <td>2</td>\n",
       "      <td>7</td>\n",
       "    </tr>\n",
       "  </tbody>\n",
       "</table>\n",
       "</div>"
      ],
      "text/plain": [
       "   Age  Attrition              Department  DistanceFromHome  Education  \\\n",
       "0   41          1                   Sales                 1          2   \n",
       "1   49          0  Research & Development                 8          1   \n",
       "2   37          1  Research & Development                 2          2   \n",
       "3   33          0  Research & Development                 3          4   \n",
       "4   27          0  Research & Development                 2          1   \n",
       "5   32          0  Research & Development                 2          2   \n",
       "6   59          0  Research & Development                 3          3   \n",
       "7   30          0  Research & Development                24          1   \n",
       "8   38          0  Research & Development                23          3   \n",
       "9   36          0  Research & Development                27          3   \n",
       "\n",
       "  EducationField  EnvironmentSatisfaction  JobSatisfaction MaritalStatus  \\\n",
       "0  Life Sciences                        2                4        Single   \n",
       "1  Life Sciences                        3                2       Married   \n",
       "2          Other                        4                3        Single   \n",
       "3  Life Sciences                        4                3       Married   \n",
       "4        Medical                        1                2       Married   \n",
       "5  Life Sciences                        4                4        Single   \n",
       "6        Medical                        3                1       Married   \n",
       "7  Life Sciences                        4                3      Divorced   \n",
       "8  Life Sciences                        4                3        Single   \n",
       "9        Medical                        3                3       Married   \n",
       "\n",
       "   MonthlyIncome  NumCompaniesWorked  WorkLifeBalance  YearsAtCompany  \n",
       "0           5993                   8                1               6  \n",
       "1           5130                   1                3              10  \n",
       "2           2090                   6                3               0  \n",
       "3           2909                   1                3               8  \n",
       "4           3468                   9                3               2  \n",
       "5           3068                   0                2               7  \n",
       "6           2670                   4                2               1  \n",
       "7           2693                   1                3               1  \n",
       "8           9526                   0                3               9  \n",
       "9           5237                   6                2               7  "
      ]
     },
     "execution_count": 15,
     "metadata": {},
     "output_type": "execute_result"
    }
   ],
   "source": [
    "dataframe.head(10)"
   ]
  },
  {
   "cell_type": "code",
   "execution_count": 16,
   "id": "bbcbc4a5",
   "metadata": {},
   "outputs": [
    {
     "data": {
      "text/plain": [
       "0    1\n",
       "1    0\n",
       "2    1\n",
       "3    0\n",
       "4    0\n",
       "Name: Attrition, dtype: int64"
      ]
     },
     "execution_count": 16,
     "metadata": {},
     "output_type": "execute_result"
    }
   ],
   "source": [
    "# building up a Logistic regression model\n",
    "X = dataframe.drop(['Attrition'],axis=1)\n",
    "X.head()\n",
    "Y = dataframe['Attrition']\n",
    "Y.head()"
   ]
  },
  {
   "cell_type": "code",
   "execution_count": 17,
   "id": "05627573",
   "metadata": {},
   "outputs": [],
   "source": [
    "dataframe['EducationField'].replace('Life Sciences',1, inplace=True)\n",
    "dataframe['EducationField'].replace('Medical',2, inplace=True)\n",
    "dataframe['EducationField'].replace('Marketing', 3, inplace=True)\n",
    "dataframe['EducationField'].replace('Other',4, inplace=True)\n",
    "dataframe['EducationField'].replace('Technical Degree',5, inplace=True)\n",
    "dataframe['EducationField'].replace('Human Resources', 6, inplace=True)"
   ]
  },
  {
   "cell_type": "code",
   "execution_count": 18,
   "id": "829b1e2a",
   "metadata": {},
   "outputs": [
    {
     "data": {
      "text/plain": [
       "EducationField\n",
       "1    606\n",
       "2    464\n",
       "3    159\n",
       "5    132\n",
       "4     82\n",
       "6     27\n",
       "Name: count, dtype: int64"
      ]
     },
     "execution_count": 18,
     "metadata": {},
     "output_type": "execute_result"
    }
   ],
   "source": [
    "dataframe['EducationField'].value_counts()"
   ]
  },
  {
   "cell_type": "code",
   "execution_count": 19,
   "id": "8929db3b",
   "metadata": {},
   "outputs": [
    {
     "data": {
      "text/plain": [
       "Department\n",
       "Research & Development    961\n",
       "Sales                     446\n",
       "Human Resources            63\n",
       "Name: count, dtype: int64"
      ]
     },
     "execution_count": 19,
     "metadata": {},
     "output_type": "execute_result"
    }
   ],
   "source": [
    "dataframe['Department'].value_counts()"
   ]
  },
  {
   "cell_type": "code",
   "execution_count": 20,
   "id": "4f54c673",
   "metadata": {},
   "outputs": [],
   "source": [
    "dataframe['Department'].replace('Research & Development',1, inplace=True)\n",
    "dataframe['Department'].replace('Sales',2, inplace=True)\n",
    "dataframe['Department'].replace('Human Resources', 3, inplace=True)"
   ]
  },
  {
   "cell_type": "code",
   "execution_count": 21,
   "id": "4ac3c0b3",
   "metadata": {},
   "outputs": [
    {
     "data": {
      "text/plain": [
       "Department\n",
       "1    961\n",
       "2    446\n",
       "3     63\n",
       "Name: count, dtype: int64"
      ]
     },
     "execution_count": 21,
     "metadata": {},
     "output_type": "execute_result"
    }
   ],
   "source": [
    "dataframe['Department'].value_counts()"
   ]
  },
  {
   "cell_type": "code",
   "execution_count": 22,
   "id": "804a8a79",
   "metadata": {},
   "outputs": [
    {
     "data": {
      "text/plain": [
       "MaritalStatus\n",
       "Married     673\n",
       "Single      470\n",
       "Divorced    327\n",
       "Name: count, dtype: int64"
      ]
     },
     "execution_count": 22,
     "metadata": {},
     "output_type": "execute_result"
    }
   ],
   "source": [
    "dataframe['MaritalStatus'].value_counts()"
   ]
  },
  {
   "cell_type": "code",
   "execution_count": 23,
   "id": "5aaf1ba7",
   "metadata": {},
   "outputs": [],
   "source": [
    "dataframe['MaritalStatus'].replace('Married',1, inplace=True)\n",
    "dataframe['MaritalStatus'].replace('Single',2, inplace=True)\n",
    "dataframe['MaritalStatus'].replace('divorced',3, inplace=True)"
   ]
  },
  {
   "cell_type": "code",
   "execution_count": 24,
   "id": "08a4e944",
   "metadata": {},
   "outputs": [
    {
     "data": {
      "text/plain": [
       "MaritalStatus\n",
       "1           673\n",
       "2           470\n",
       "Divorced    327\n",
       "Name: count, dtype: int64"
      ]
     },
     "execution_count": 24,
     "metadata": {},
     "output_type": "execute_result"
    }
   ],
   "source": [
    "dataframe['MaritalStatus'].value_counts()"
   ]
  },
  {
   "cell_type": "code",
   "execution_count": 25,
   "id": "1c641d52",
   "metadata": {},
   "outputs": [
    {
     "data": {
      "text/plain": [
       "Age                        int64\n",
       "Attrition                  int64\n",
       "Department                 int64\n",
       "DistanceFromHome           int64\n",
       "Education                  int64\n",
       "EducationField             int64\n",
       "EnvironmentSatisfaction    int64\n",
       "JobSatisfaction            int64\n",
       "MonthlyIncome              int64\n",
       "NumCompaniesWorked         int64\n",
       "WorkLifeBalance            int64\n",
       "YearsAtCompany             int64\n",
       "dtype: object"
      ]
     },
     "execution_count": 25,
     "metadata": {},
     "output_type": "execute_result"
    }
   ],
   "source": [
    "x=dataframe.select_dtypes(include=['int64'])\n",
    "x.dtypes"
   ]
  },
  {
   "cell_type": "code",
   "execution_count": 26,
   "id": "96583712",
   "metadata": {},
   "outputs": [
    {
     "data": {
      "text/plain": [
       "Index(['Age', 'Attrition', 'Department', 'DistanceFromHome', 'Education',\n",
       "       'EducationField', 'EnvironmentSatisfaction', 'JobSatisfaction',\n",
       "       'MonthlyIncome', 'NumCompaniesWorked', 'WorkLifeBalance',\n",
       "       'YearsAtCompany'],\n",
       "      dtype='object')"
      ]
     },
     "execution_count": 26,
     "metadata": {},
     "output_type": "execute_result"
    }
   ],
   "source": [
    "x.columns"
   ]
  },
  {
   "cell_type": "code",
   "execution_count": 27,
   "id": "c5c8feb0",
   "metadata": {},
   "outputs": [],
   "source": [
    "y=dataframe['Attrition']"
   ]
  },
  {
   "cell_type": "code",
   "execution_count": 28,
   "id": "542b6220",
   "metadata": {},
   "outputs": [
    {
     "data": {
      "text/plain": [
       "0    1\n",
       "1    0\n",
       "2    1\n",
       "3    0\n",
       "4    0\n",
       "Name: Attrition, dtype: int64"
      ]
     },
     "execution_count": 28,
     "metadata": {},
     "output_type": "execute_result"
    }
   ],
   "source": [
    "y.head()"
   ]
  },
  {
   "cell_type": "code",
   "execution_count": 29,
   "id": "1ac75050",
   "metadata": {},
   "outputs": [
    {
     "name": "stdout",
     "output_type": "stream",
     "text": [
      "Index(['Intercept', 'Age', 'Department', 'DistanceFromHome', 'Education',\n",
      "       'EducationField', 'YearsAtCompany'],\n",
      "      dtype='object')\n"
     ]
    }
   ],
   "source": [
    "y, x = dmatrices('Attrition ~ Age + Department + \\\n",
    "                  DistanceFromHome + Education + EducationField + YearsAtCompany',\n",
    "                  dataframe, return_type=\"dataframe\")\n",
    "print (x.columns)"
   ]
  },
  {
   "cell_type": "code",
   "execution_count": 30,
   "id": "d66506ff",
   "metadata": {},
   "outputs": [],
   "source": [
    "y= np.ravel(y)"
   ]
  },
  {
   "cell_type": "code",
   "execution_count": 31,
   "id": "96865fcf",
   "metadata": {},
   "outputs": [
    {
     "data": {
      "text/plain": [
       "0.8408163265306122"
      ]
     },
     "execution_count": 31,
     "metadata": {},
     "output_type": "execute_result"
    }
   ],
   "source": [
    "from sklearn.linear_model import LogisticRegression\n",
    "\n",
    "model = LogisticRegression()\n",
    "model = model.fit(x, y)\n",
    "\n",
    "# check the accuracy on the training set\n",
    "model.score(x, y)"
   ]
  },
  {
   "cell_type": "code",
   "execution_count": 32,
   "id": "4e21599e",
   "metadata": {},
   "outputs": [
    {
     "data": {
      "text/plain": [
       "0.16122448979591836"
      ]
     },
     "execution_count": 32,
     "metadata": {},
     "output_type": "execute_result"
    }
   ],
   "source": [
    "y.mean()"
   ]
  },
  {
   "cell_type": "code",
   "execution_count": 33,
   "id": "d578d954",
   "metadata": {},
   "outputs": [
    {
     "data": {
      "text/html": [
       "<style>#sk-container-id-1 {color: black;}#sk-container-id-1 pre{padding: 0;}#sk-container-id-1 div.sk-toggleable {background-color: white;}#sk-container-id-1 label.sk-toggleable__label {cursor: pointer;display: block;width: 100%;margin-bottom: 0;padding: 0.3em;box-sizing: border-box;text-align: center;}#sk-container-id-1 label.sk-toggleable__label-arrow:before {content: \"▸\";float: left;margin-right: 0.25em;color: #696969;}#sk-container-id-1 label.sk-toggleable__label-arrow:hover:before {color: black;}#sk-container-id-1 div.sk-estimator:hover label.sk-toggleable__label-arrow:before {color: black;}#sk-container-id-1 div.sk-toggleable__content {max-height: 0;max-width: 0;overflow: hidden;text-align: left;background-color: #f0f8ff;}#sk-container-id-1 div.sk-toggleable__content pre {margin: 0.2em;color: black;border-radius: 0.25em;background-color: #f0f8ff;}#sk-container-id-1 input.sk-toggleable__control:checked~div.sk-toggleable__content {max-height: 200px;max-width: 100%;overflow: auto;}#sk-container-id-1 input.sk-toggleable__control:checked~label.sk-toggleable__label-arrow:before {content: \"▾\";}#sk-container-id-1 div.sk-estimator input.sk-toggleable__control:checked~label.sk-toggleable__label {background-color: #d4ebff;}#sk-container-id-1 div.sk-label input.sk-toggleable__control:checked~label.sk-toggleable__label {background-color: #d4ebff;}#sk-container-id-1 input.sk-hidden--visually {border: 0;clip: rect(1px 1px 1px 1px);clip: rect(1px, 1px, 1px, 1px);height: 1px;margin: -1px;overflow: hidden;padding: 0;position: absolute;width: 1px;}#sk-container-id-1 div.sk-estimator {font-family: monospace;background-color: #f0f8ff;border: 1px dotted black;border-radius: 0.25em;box-sizing: border-box;margin-bottom: 0.5em;}#sk-container-id-1 div.sk-estimator:hover {background-color: #d4ebff;}#sk-container-id-1 div.sk-parallel-item::after {content: \"\";width: 100%;border-bottom: 1px solid gray;flex-grow: 1;}#sk-container-id-1 div.sk-label:hover label.sk-toggleable__label {background-color: #d4ebff;}#sk-container-id-1 div.sk-serial::before {content: \"\";position: absolute;border-left: 1px solid gray;box-sizing: border-box;top: 0;bottom: 0;left: 50%;z-index: 0;}#sk-container-id-1 div.sk-serial {display: flex;flex-direction: column;align-items: center;background-color: white;padding-right: 0.2em;padding-left: 0.2em;position: relative;}#sk-container-id-1 div.sk-item {position: relative;z-index: 1;}#sk-container-id-1 div.sk-parallel {display: flex;align-items: stretch;justify-content: center;background-color: white;position: relative;}#sk-container-id-1 div.sk-item::before, #sk-container-id-1 div.sk-parallel-item::before {content: \"\";position: absolute;border-left: 1px solid gray;box-sizing: border-box;top: 0;bottom: 0;left: 50%;z-index: -1;}#sk-container-id-1 div.sk-parallel-item {display: flex;flex-direction: column;z-index: 1;position: relative;background-color: white;}#sk-container-id-1 div.sk-parallel-item:first-child::after {align-self: flex-end;width: 50%;}#sk-container-id-1 div.sk-parallel-item:last-child::after {align-self: flex-start;width: 50%;}#sk-container-id-1 div.sk-parallel-item:only-child::after {width: 0;}#sk-container-id-1 div.sk-dashed-wrapped {border: 1px dashed gray;margin: 0 0.4em 0.5em 0.4em;box-sizing: border-box;padding-bottom: 0.4em;background-color: white;}#sk-container-id-1 div.sk-label label {font-family: monospace;font-weight: bold;display: inline-block;line-height: 1.2em;}#sk-container-id-1 div.sk-label-container {text-align: center;}#sk-container-id-1 div.sk-container {/* jupyter's `normalize.less` sets `[hidden] { display: none; }` but bootstrap.min.css set `[hidden] { display: none !important; }` so we also need the `!important` here to be able to override the default hidden behavior on the sphinx rendered scikit-learn.org. See: https://github.com/scikit-learn/scikit-learn/issues/21755 */display: inline-block !important;position: relative;}#sk-container-id-1 div.sk-text-repr-fallback {display: none;}</style><div id=\"sk-container-id-1\" class=\"sk-top-container\"><div class=\"sk-text-repr-fallback\"><pre>LogisticRegression()</pre><b>In a Jupyter environment, please rerun this cell to show the HTML representation or trust the notebook. <br />On GitHub, the HTML representation is unable to render, please try loading this page with nbviewer.org.</b></div><div class=\"sk-container\" hidden><div class=\"sk-item\"><div class=\"sk-estimator sk-toggleable\"><input class=\"sk-toggleable__control sk-hidden--visually\" id=\"sk-estimator-id-1\" type=\"checkbox\" checked><label for=\"sk-estimator-id-1\" class=\"sk-toggleable__label sk-toggleable__label-arrow\">LogisticRegression</label><div class=\"sk-toggleable__content\"><pre>LogisticRegression()</pre></div></div></div></div></div>"
      ],
      "text/plain": [
       "LogisticRegression()"
      ]
     },
     "execution_count": 33,
     "metadata": {},
     "output_type": "execute_result"
    }
   ],
   "source": [
    "X_train,X_test,y_train,y_test=sklearn.model_selection.train_test_split(x,y, test_size=0.3, random_state=0)\n",
    "model2=LogisticRegression()\n",
    "model2.fit(X_train, y_train)"
   ]
  },
  {
   "cell_type": "code",
   "execution_count": 34,
   "id": "002948c8",
   "metadata": {
    "scrolled": true
   },
   "outputs": [
    {
     "name": "stdout",
     "output_type": "stream",
     "text": [
      "[0. 0. 0. 0. 0. 0. 0. 0. 0. 0. 0. 0. 0. 0. 0. 0. 0. 0. 0. 0. 0. 0. 0. 0.\n",
      " 0. 0. 0. 0. 0. 0. 0. 0. 0. 0. 0. 0. 0. 0. 0. 0. 0. 0. 0. 0. 0. 0. 0. 0.\n",
      " 0. 0. 0. 0. 0. 0. 0. 0. 0. 0. 0. 0. 0. 0. 0. 0. 0. 0. 0. 0. 0. 0. 0. 0.\n",
      " 0. 0. 0. 0. 0. 0. 0. 0. 0. 0. 0. 0. 0. 0. 0. 0. 0. 0. 0. 0. 0. 0. 0. 0.\n",
      " 0. 0. 0. 0. 0. 0. 0. 0. 0. 0. 0. 0. 0. 0. 0. 0. 0. 0. 0. 0. 0. 0. 0. 0.\n",
      " 0. 0. 0. 0. 0. 0. 0. 0. 0. 0. 0. 0. 0. 0. 0. 0. 0. 0. 0. 0. 0. 0. 0. 0.\n",
      " 0. 0. 0. 0. 0. 0. 0. 0. 0. 0. 0. 0. 0. 0. 0. 0. 0. 0. 0. 0. 0. 0. 0. 0.\n",
      " 0. 0. 0. 0. 0. 0. 0. 0. 0. 0. 0. 0. 0. 0. 0. 0. 0. 0. 0. 0. 0. 0. 0. 0.\n",
      " 0. 0. 0. 0. 0. 0. 0. 0. 0. 0. 0. 0. 0. 0. 0. 0. 0. 0. 0. 0. 0. 0. 0. 0.\n",
      " 0. 0. 0. 0. 0. 0. 0. 0. 0. 0. 0. 0. 0. 0. 0. 0. 0. 0. 0. 0. 0. 0. 0. 0.\n",
      " 0. 0. 0. 0. 0. 0. 0. 0. 0. 0. 0. 0. 0. 0. 0. 0. 0. 0. 0. 0. 0. 0. 0. 0.\n",
      " 0. 0. 0. 0. 0. 0. 0. 0. 0. 0. 0. 0. 0. 0. 0. 0. 0. 0. 0. 0. 0. 0. 0. 0.\n",
      " 0. 0. 0. 0. 0. 0. 0. 0. 0. 0. 0. 0. 0. 0. 0. 0. 0. 0. 0. 0. 0. 0. 0. 0.\n",
      " 0. 0. 0. 0. 0. 0. 0. 0. 1. 0. 0. 0. 0. 0. 0. 0. 0. 0. 0. 0. 0. 0. 0. 0.\n",
      " 0. 0. 0. 0. 0. 0. 0. 0. 0. 0. 0. 0. 0. 0. 0. 0. 0. 0. 0. 0. 0. 0. 0. 0.\n",
      " 0. 0. 0. 0. 0. 0. 0. 0. 0. 0. 0. 0. 0. 0. 0. 0. 0. 0. 0. 0. 0. 0. 0. 0.\n",
      " 0. 0. 0. 0. 0. 0. 0. 0. 0. 0. 0. 0. 0. 0. 0. 0. 0. 0. 0. 0. 0. 0. 0. 0.\n",
      " 0. 0. 0. 0. 0. 0. 0. 0. 0. 0. 0. 0. 0. 0. 0. 0. 0. 0. 0. 0. 0. 0. 0. 0.\n",
      " 0. 0. 0. 0. 0. 0. 0. 0. 0.]\n"
     ]
    }
   ],
   "source": [
    "predicted= model2.predict(X_test)\n",
    "print(predicted)"
   ]
  },
  {
   "cell_type": "code",
   "execution_count": 35,
   "id": "79d98b5e",
   "metadata": {},
   "outputs": [
    {
     "name": "stdout",
     "output_type": "stream",
     "text": [
      "[[0.86179616 0.13820384]\n",
      " [0.8075459  0.1924541 ]\n",
      " [0.74123912 0.25876088]\n",
      " [0.83441343 0.16558657]\n",
      " [0.73499929 0.26500071]\n",
      " [0.79097734 0.20902266]\n",
      " [0.85615191 0.14384809]\n",
      " [0.85699665 0.14300335]\n",
      " [0.96699061 0.03300939]\n",
      " [0.93685216 0.06314784]\n",
      " [0.95099286 0.04900714]\n",
      " [0.83101551 0.16898449]\n",
      " [0.8629656  0.1370344 ]\n",
      " [0.86581194 0.13418806]\n",
      " [0.88750611 0.11249389]\n",
      " [0.88892616 0.11107384]\n",
      " [0.88569733 0.11430267]\n",
      " [0.78516578 0.21483422]\n",
      " [0.79794489 0.20205511]\n",
      " [0.88511312 0.11488688]\n",
      " [0.70651571 0.29348429]\n",
      " [0.94676699 0.05323301]\n",
      " [0.86736252 0.13263748]\n",
      " [0.84276447 0.15723553]\n",
      " [0.60336803 0.39663197]\n",
      " [0.81129199 0.18870801]\n",
      " [0.91813737 0.08186263]\n",
      " [0.93285524 0.06714476]\n",
      " [0.68230728 0.31769272]\n",
      " [0.87027145 0.12972855]\n",
      " [0.87266389 0.12733611]\n",
      " [0.76968731 0.23031269]\n",
      " [0.86435786 0.13564214]\n",
      " [0.95758887 0.04241113]\n",
      " [0.8446149  0.1553851 ]\n",
      " [0.86719347 0.13280653]\n",
      " [0.90465991 0.09534009]\n",
      " [0.68936415 0.31063585]\n",
      " [0.90703623 0.09296377]\n",
      " [0.80663468 0.19336532]\n",
      " [0.91515736 0.08484264]\n",
      " [0.8235126  0.1764874 ]\n",
      " [0.93711523 0.06288477]\n",
      " [0.93411326 0.06588674]\n",
      " [0.8944766  0.1055234 ]\n",
      " [0.85317749 0.14682251]\n",
      " [0.78922387 0.21077613]\n",
      " [0.8487989  0.1512011 ]\n",
      " [0.66402421 0.33597579]\n",
      " [0.76252278 0.23747722]\n",
      " [0.92851118 0.07148882]\n",
      " [0.78953695 0.21046305]\n",
      " [0.86166586 0.13833414]\n",
      " [0.85837877 0.14162123]\n",
      " [0.87217675 0.12782325]\n",
      " [0.78950889 0.21049111]\n",
      " [0.87690798 0.12309202]\n",
      " [0.84165456 0.15834544]\n",
      " [0.72847113 0.27152887]\n",
      " [0.83181392 0.16818608]\n",
      " [0.90095029 0.09904971]\n",
      " [0.71077308 0.28922692]\n",
      " [0.9282303  0.0717697 ]\n",
      " [0.84375675 0.15624325]\n",
      " [0.795441   0.204559  ]\n",
      " [0.86826172 0.13173828]\n",
      " [0.91679454 0.08320546]\n",
      " [0.84763057 0.15236943]\n",
      " [0.8925371  0.1074629 ]\n",
      " [0.62872063 0.37127937]\n",
      " [0.93875402 0.06124598]\n",
      " [0.72620317 0.27379683]\n",
      " [0.85652975 0.14347025]\n",
      " [0.84226024 0.15773976]\n",
      " [0.77436366 0.22563634]\n",
      " [0.71899552 0.28100448]\n",
      " [0.93587398 0.06412602]\n",
      " [0.95710078 0.04289922]\n",
      " [0.79185817 0.20814183]\n",
      " [0.89370443 0.10629557]\n",
      " [0.91382045 0.08617955]\n",
      " [0.79354588 0.20645412]\n",
      " [0.77934008 0.22065992]\n",
      " [0.79638957 0.20361043]\n",
      " [0.83800506 0.16199494]\n",
      " [0.71395647 0.28604353]\n",
      " [0.97772721 0.02227279]\n",
      " [0.94645983 0.05354017]\n",
      " [0.8861763  0.1138237 ]\n",
      " [0.79620169 0.20379831]\n",
      " [0.61863793 0.38136207]\n",
      " [0.81866472 0.18133528]\n",
      " [0.74504106 0.25495894]\n",
      " [0.86779496 0.13220504]\n",
      " [0.87071142 0.12928858]\n",
      " [0.81717459 0.18282541]\n",
      " [0.71840768 0.28159232]\n",
      " [0.59825842 0.40174158]\n",
      " [0.8395156  0.1604844 ]\n",
      " [0.88351329 0.11648671]\n",
      " [0.74352547 0.25647453]\n",
      " [0.76631626 0.23368374]\n",
      " [0.98033041 0.01966959]\n",
      " [0.91857474 0.08142526]\n",
      " [0.77432839 0.22567161]\n",
      " [0.92514824 0.07485176]\n",
      " [0.88123384 0.11876616]\n",
      " [0.74587147 0.25412853]\n",
      " [0.90478365 0.09521635]\n",
      " [0.78685496 0.21314504]\n",
      " [0.81147772 0.18852228]\n",
      " [0.93472174 0.06527826]\n",
      " [0.9383651  0.0616349 ]\n",
      " [0.79411742 0.20588258]\n",
      " [0.81372896 0.18627104]\n",
      " [0.91610923 0.08389077]\n",
      " [0.90428352 0.09571648]\n",
      " [0.84669415 0.15330585]\n",
      " [0.95384562 0.04615438]\n",
      " [0.91283695 0.08716305]\n",
      " [0.85919613 0.14080387]\n",
      " [0.85902492 0.14097508]\n",
      " [0.87519515 0.12480485]\n",
      " [0.76114658 0.23885342]\n",
      " [0.92217692 0.07782308]\n",
      " [0.96859415 0.03140585]\n",
      " [0.94398231 0.05601769]\n",
      " [0.81780281 0.18219719]\n",
      " [0.88058708 0.11941292]\n",
      " [0.77894292 0.22105708]\n",
      " [0.97124471 0.02875529]\n",
      " [0.88807663 0.11192337]\n",
      " [0.78715265 0.21284735]\n",
      " [0.82001476 0.17998524]\n",
      " [0.94934551 0.05065449]\n",
      " [0.9588894  0.0411106 ]\n",
      " [0.73559193 0.26440807]\n",
      " [0.93417007 0.06582993]\n",
      " [0.73750603 0.26249397]\n",
      " [0.82136735 0.17863265]\n",
      " [0.82171201 0.17828799]\n",
      " [0.89896706 0.10103294]\n",
      " [0.7874577  0.2125423 ]\n",
      " [0.89825356 0.10174644]\n",
      " [0.91433827 0.08566173]\n",
      " [0.92724745 0.07275255]\n",
      " [0.96594971 0.03405029]\n",
      " [0.94417377 0.05582623]\n",
      " [0.93073087 0.06926913]\n",
      " [0.66320551 0.33679449]\n",
      " [0.84168644 0.15831356]\n",
      " [0.82636811 0.17363189]\n",
      " [0.80616633 0.19383367]\n",
      " [0.96157638 0.03842362]\n",
      " [0.93515162 0.06484838]\n",
      " [0.94778636 0.05221364]\n",
      " [0.97337832 0.02662168]\n",
      " [0.79297035 0.20702965]\n",
      " [0.87770201 0.12229799]\n",
      " [0.86103661 0.13896339]\n",
      " [0.95185483 0.04814517]\n",
      " [0.93131494 0.06868506]\n",
      " [0.75685344 0.24314656]\n",
      " [0.74997783 0.25002217]\n",
      " [0.95527872 0.04472128]\n",
      " [0.8695073  0.1304927 ]\n",
      " [0.81376762 0.18623238]\n",
      " [0.76990614 0.23009386]\n",
      " [0.80077898 0.19922102]\n",
      " [0.92801127 0.07198873]\n",
      " [0.90949252 0.09050748]\n",
      " [0.94557636 0.05442364]\n",
      " [0.93330475 0.06669525]\n",
      " [0.69145869 0.30854131]\n",
      " [0.93056894 0.06943106]\n",
      " [0.74525399 0.25474601]\n",
      " [0.78594329 0.21405671]\n",
      " [0.93308607 0.06691393]\n",
      " [0.80878294 0.19121706]\n",
      " [0.85096458 0.14903542]\n",
      " [0.66956254 0.33043746]\n",
      " [0.90338382 0.09661618]\n",
      " [0.91158941 0.08841059]\n",
      " [0.87300498 0.12699502]\n",
      " [0.92939062 0.07060938]\n",
      " [0.66661683 0.33338317]\n",
      " [0.89098518 0.10901482]\n",
      " [0.86216699 0.13783301]\n",
      " [0.78838555 0.21161445]\n",
      " [0.53099545 0.46900455]\n",
      " [0.7334431  0.2665569 ]\n",
      " [0.71053971 0.28946029]\n",
      " [0.855305   0.144695  ]\n",
      " [0.86960591 0.13039409]\n",
      " [0.75470001 0.24529999]\n",
      " [0.89823519 0.10176481]\n",
      " [0.79247828 0.20752172]\n",
      " [0.90643157 0.09356843]\n",
      " [0.77650776 0.22349224]\n",
      " [0.8838779  0.1161221 ]\n",
      " [0.85404308 0.14595692]\n",
      " [0.81899342 0.18100658]\n",
      " [0.7444849  0.2555151 ]\n",
      " [0.8625943  0.1374057 ]\n",
      " [0.7782262  0.2217738 ]\n",
      " [0.76928315 0.23071685]\n",
      " [0.79679219 0.20320781]\n",
      " [0.92096593 0.07903407]\n",
      " [0.74573753 0.25426247]\n",
      " [0.87499234 0.12500766]\n",
      " [0.85503292 0.14496708]\n",
      " [0.77292132 0.22707868]\n",
      " [0.8722727  0.1277273 ]\n",
      " [0.67395322 0.32604678]\n",
      " [0.93621671 0.06378329]\n",
      " [0.82479478 0.17520522]\n",
      " [0.95146052 0.04853948]\n",
      " [0.83462446 0.16537554]\n",
      " [0.81106488 0.18893512]\n",
      " [0.80828246 0.19171754]\n",
      " [0.87664159 0.12335841]\n",
      " [0.66786977 0.33213023]\n",
      " [0.59616832 0.40383168]\n",
      " [0.98979369 0.01020631]\n",
      " [0.70634381 0.29365619]\n",
      " [0.91633103 0.08366897]\n",
      " [0.92133481 0.07866519]\n",
      " [0.71383904 0.28616096]\n",
      " [0.62453897 0.37546103]\n",
      " [0.7644057  0.2355943 ]\n",
      " [0.95401661 0.04598339]\n",
      " [0.88186725 0.11813275]\n",
      " [0.86019905 0.13980095]\n",
      " [0.92117385 0.07882615]\n",
      " [0.88019172 0.11980828]\n",
      " [0.80451411 0.19548589]\n",
      " [0.80585176 0.19414824]\n",
      " [0.91345502 0.08654498]\n",
      " [0.72101801 0.27898199]\n",
      " [0.94508011 0.05491989]\n",
      " [0.90906917 0.09093083]\n",
      " [0.73381733 0.26618267]\n",
      " [0.98109188 0.01890812]\n",
      " [0.85490444 0.14509556]\n",
      " [0.89817078 0.10182922]\n",
      " [0.8243699  0.1756301 ]\n",
      " [0.83387102 0.16612898]\n",
      " [0.88136657 0.11863343]\n",
      " [0.88031304 0.11968696]\n",
      " [0.87560621 0.12439379]\n",
      " [0.81617203 0.18382797]\n",
      " [0.88028852 0.11971148]\n",
      " [0.615308   0.384692  ]\n",
      " [0.88826167 0.11173833]\n",
      " [0.89692822 0.10307178]\n",
      " [0.85328926 0.14671074]\n",
      " [0.98297046 0.01702954]\n",
      " [0.77341226 0.22658774]\n",
      " [0.62184854 0.37815146]\n",
      " [0.82739133 0.17260867]\n",
      " [0.84083335 0.15916665]\n",
      " [0.84808595 0.15191405]\n",
      " [0.84937033 0.15062967]\n",
      " [0.75540956 0.24459044]\n",
      " [0.86188854 0.13811146]\n",
      " [0.90684696 0.09315304]\n",
      " [0.84663264 0.15336736]\n",
      " [0.81290894 0.18709106]\n",
      " [0.74053546 0.25946454]\n",
      " [0.87035278 0.12964722]\n",
      " [0.83938082 0.16061918]\n",
      " [0.86267944 0.13732056]\n",
      " [0.66362861 0.33637139]\n",
      " [0.90671716 0.09328284]\n",
      " [0.87056312 0.12943688]\n",
      " [0.92580798 0.07419202]\n",
      " [0.84386837 0.15613163]\n",
      " [0.89878138 0.10121862]\n",
      " [0.91239504 0.08760496]\n",
      " [0.79867621 0.20132379]\n",
      " [0.64052588 0.35947412]\n",
      " [0.84683938 0.15316062]\n",
      " [0.75503177 0.24496823]\n",
      " [0.85264538 0.14735462]\n",
      " [0.99251436 0.00748564]\n",
      " [0.86138224 0.13861776]\n",
      " [0.88140147 0.11859853]\n",
      " [0.82757082 0.17242918]\n",
      " [0.93027082 0.06972918]\n",
      " [0.87307438 0.12692562]\n",
      " [0.88802402 0.11197598]\n",
      " [0.83753302 0.16246698]\n",
      " [0.86481027 0.13518973]\n",
      " [0.86515556 0.13484444]\n",
      " [0.89754797 0.10245203]\n",
      " [0.78409094 0.21590906]\n",
      " [0.79165107 0.20834893]\n",
      " [0.88388116 0.11611884]\n",
      " [0.65418925 0.34581075]\n",
      " [0.94059389 0.05940611]\n",
      " [0.8991344  0.1008656 ]\n",
      " [0.72525591 0.27474409]\n",
      " [0.69085481 0.30914519]\n",
      " [0.87591632 0.12408368]\n",
      " [0.86562255 0.13437745]\n",
      " [0.97508883 0.02491117]\n",
      " [0.86265134 0.13734866]\n",
      " [0.54036021 0.45963979]\n",
      " [0.91302288 0.08697712]\n",
      " [0.74609563 0.25390437]\n",
      " [0.86758146 0.13241854]\n",
      " [0.88852753 0.11147247]\n",
      " [0.87911719 0.12088281]\n",
      " [0.85664959 0.14335041]\n",
      " [0.77281948 0.22718052]\n",
      " [0.80713993 0.19286007]\n",
      " [0.85285503 0.14714497]\n",
      " [0.77595546 0.22404454]\n",
      " [0.70409854 0.29590146]\n",
      " [0.88971655 0.11028345]\n",
      " [0.48963016 0.51036984]\n",
      " [0.92370659 0.07629341]\n",
      " [0.75572301 0.24427699]\n",
      " [0.67788812 0.32211188]\n",
      " [0.91301006 0.08698994]\n",
      " [0.94029217 0.05970783]\n",
      " [0.88009798 0.11990202]\n",
      " [0.88591179 0.11408821]\n",
      " [0.95656837 0.04343163]\n",
      " [0.8990943  0.1009057 ]\n",
      " [0.94784654 0.05215346]\n",
      " [0.83255764 0.16744236]\n",
      " [0.87822145 0.12177855]\n",
      " [0.81945789 0.18054211]\n",
      " [0.81668778 0.18331222]\n",
      " [0.95036179 0.04963821]\n",
      " [0.86940139 0.13059861]\n",
      " [0.90541608 0.09458392]\n",
      " [0.83661193 0.16338807]\n",
      " [0.84583638 0.15416362]\n",
      " [0.79307972 0.20692028]\n",
      " [0.81808119 0.18191881]\n",
      " [0.81598399 0.18401601]\n",
      " [0.83677545 0.16322455]\n",
      " [0.91443039 0.08556961]\n",
      " [0.91533089 0.08466911]\n",
      " [0.68503426 0.31496574]\n",
      " [0.99073762 0.00926238]\n",
      " [0.76794992 0.23205008]\n",
      " [0.79871911 0.20128089]\n",
      " [0.73176825 0.26823175]\n",
      " [0.67465153 0.32534847]\n",
      " [0.79712443 0.20287557]\n",
      " [0.84935617 0.15064383]\n",
      " [0.86467082 0.13532918]\n",
      " [0.85844156 0.14155844]\n",
      " [0.84533268 0.15466732]\n",
      " [0.83038808 0.16961192]\n",
      " [0.92192763 0.07807237]\n",
      " [0.83189718 0.16810282]\n",
      " [0.97707558 0.02292442]\n",
      " [0.90418246 0.09581754]\n",
      " [0.92691208 0.07308792]\n",
      " [0.8479735  0.1520265 ]\n",
      " [0.76712564 0.23287436]\n",
      " [0.94895165 0.05104835]\n",
      " [0.94782095 0.05217905]\n",
      " [0.75181484 0.24818516]\n",
      " [0.87880469 0.12119531]\n",
      " [0.80770788 0.19229212]\n",
      " [0.93864308 0.06135692]\n",
      " [0.86008488 0.13991512]\n",
      " [0.76056664 0.23943336]\n",
      " [0.90892482 0.09107518]\n",
      " [0.7540214  0.2459786 ]\n",
      " [0.94271848 0.05728152]\n",
      " [0.91827322 0.08172678]\n",
      " [0.90545129 0.09454871]\n",
      " [0.76879442 0.23120558]\n",
      " [0.92358146 0.07641854]\n",
      " [0.80705868 0.19294132]\n",
      " [0.90079531 0.09920469]\n",
      " [0.87933341 0.12066659]\n",
      " [0.80585673 0.19414327]\n",
      " [0.83150041 0.16849959]\n",
      " [0.53816731 0.46183269]\n",
      " [0.95031831 0.04968169]\n",
      " [0.73291877 0.26708123]\n",
      " [0.89182868 0.10817132]\n",
      " [0.8007985  0.1992015 ]\n",
      " [0.87739809 0.12260191]\n",
      " [0.96805236 0.03194764]\n",
      " [0.81741599 0.18258401]\n",
      " [0.86150099 0.13849901]\n",
      " [0.59407521 0.40592479]\n",
      " [0.82625738 0.17374262]\n",
      " [0.92534987 0.07465013]\n",
      " [0.81692201 0.18307799]\n",
      " [0.92586789 0.07413211]\n",
      " [0.89094617 0.10905383]\n",
      " [0.70071725 0.29928275]\n",
      " [0.82181894 0.17818106]\n",
      " [0.96589948 0.03410052]\n",
      " [0.86996989 0.13003011]\n",
      " [0.89918557 0.10081443]\n",
      " [0.88983797 0.11016203]\n",
      " [0.81432455 0.18567545]\n",
      " [0.85830047 0.14169953]\n",
      " [0.83878661 0.16121339]\n",
      " [0.84056579 0.15943421]\n",
      " [0.82661178 0.17338822]\n",
      " [0.94075177 0.05924823]\n",
      " [0.83183535 0.16816465]\n",
      " [0.77561347 0.22438653]\n",
      " [0.69399521 0.30600479]\n",
      " [0.85962127 0.14037873]\n",
      " [0.82513944 0.17486056]\n",
      " [0.84107711 0.15892289]\n",
      " [0.87191019 0.12808981]\n",
      " [0.8944766  0.1055234 ]\n",
      " [0.82945338 0.17054662]\n",
      " [0.72856762 0.27143238]\n",
      " [0.94692825 0.05307175]\n",
      " [0.96074302 0.03925698]\n",
      " [0.90500198 0.09499802]\n",
      " [0.88599996 0.11400004]\n",
      " [0.84865644 0.15134356]\n",
      " [0.79086961 0.20913039]\n",
      " [0.67302941 0.32697059]\n",
      " [0.93390215 0.06609785]\n",
      " [0.6564486  0.3435514 ]\n",
      " [0.74382836 0.25617164]\n",
      " [0.94248424 0.05751576]\n",
      " [0.78365686 0.21634314]\n",
      " [0.90655687 0.09344313]\n",
      " [0.81578729 0.18421271]\n",
      " [0.89149738 0.10850262]\n",
      " [0.85791875 0.14208125]\n",
      " [0.67453837 0.32546163]\n",
      " [0.93130405 0.06869595]\n",
      " [0.89999989 0.10000011]]\n"
     ]
    }
   ],
   "source": [
    "probs = model2.predict_proba(X_test)\n",
    "print (probs)"
   ]
  },
  {
   "cell_type": "code",
   "execution_count": 36,
   "id": "01577e2d",
   "metadata": {},
   "outputs": [
    {
     "name": "stdout",
     "output_type": "stream",
     "text": [
      "0.8435374149659864\n",
      "0.6502502887947632\n"
     ]
    }
   ],
   "source": [
    "from sklearn import metrics\n",
    "print (metrics.accuracy_score(y_test, predicted))\n",
    "print (metrics.roc_auc_score(y_test, probs[:, 1]))"
   ]
  },
  {
   "cell_type": "code",
   "execution_count": 37,
   "id": "b16a9ab0",
   "metadata": {},
   "outputs": [
    {
     "name": "stdout",
     "output_type": "stream",
     "text": [
      "[[371   0]\n",
      " [ 69   1]]\n",
      "              precision    recall  f1-score   support\n",
      "\n",
      "         0.0       0.84      1.00      0.91       371\n",
      "         1.0       1.00      0.01      0.03        70\n",
      "\n",
      "    accuracy                           0.84       441\n",
      "   macro avg       0.92      0.51      0.47       441\n",
      "weighted avg       0.87      0.84      0.77       441\n",
      "\n"
     ]
    }
   ],
   "source": [
    "print (metrics.confusion_matrix(y_test, predicted))\n",
    "print (metrics.classification_report(y_test, predicted))"
   ]
  },
  {
   "cell_type": "code",
   "execution_count": 38,
   "id": "7963a728",
   "metadata": {},
   "outputs": [
    {
     "name": "stdout",
     "output_type": "stream",
     "text": [
      "      Intercept   Age  Department  DistanceFromHome  Education  \\\n",
      "338         1.0  30.0         2.0               5.0        3.0   \n",
      "363         1.0  33.0         2.0               5.0        3.0   \n",
      "759         1.0  45.0         3.0              24.0        4.0   \n",
      "793         1.0  28.0         1.0              15.0        2.0   \n",
      "581         1.0  30.0         1.0               1.0        3.0   \n",
      "...         ...   ...         ...               ...        ...   \n",
      "763         1.0  34.0         2.0              10.0        4.0   \n",
      "835         1.0  35.0         3.0               8.0        4.0   \n",
      "1216        1.0  43.0         2.0               2.0        3.0   \n",
      "559         1.0  38.0         1.0               2.0        5.0   \n",
      "684         1.0  40.0         2.0              10.0        4.0   \n",
      "\n",
      "      EducationField  YearsAtCompany  \n",
      "338              3.0            10.0  \n",
      "363              3.0             1.0  \n",
      "759              2.0             6.0  \n",
      "793              1.0             4.0  \n",
      "581              1.0             2.0  \n",
      "...              ...             ...  \n",
      "763              1.0             1.0  \n",
      "835              5.0             5.0  \n",
      "1216             2.0            10.0  \n",
      "559              2.0             1.0  \n",
      "684              3.0             1.0  \n",
      "\n",
      "[1029 rows x 7 columns]\n"
     ]
    }
   ],
   "source": [
    "print (X_train)"
   ]
  },
  {
   "cell_type": "code",
   "execution_count": 39,
   "id": "acbccefc",
   "metadata": {},
   "outputs": [
    {
     "name": "stdout",
     "output_type": "stream",
     "text": [
      "[[6.25571796e-07 9.99999374e-01]]\n"
     ]
    },
    {
     "name": "stderr",
     "output_type": "stream",
     "text": [
      "C:\\Users\\SOUPARNA\\anaconda3\\Lib\\site-packages\\sklearn\\base.py:464: UserWarning: X does not have valid feature names, but LogisticRegression was fitted with feature names\n",
      "  warnings.warn(\n"
     ]
    }
   ],
   "source": [
    "#add random values to KK according to the parameters mentioned above to check the proabily of attrition of the employee\n",
    "kk=[[1.0, 23.0, 1.0, 500.0, 3.0, 24.0, 1.0]]\n",
    "print(model.predict_proba(kk))"
   ]
  }
 ],
 "metadata": {
  "kernelspec": {
   "display_name": "Python 3 (ipykernel)",
   "language": "python",
   "name": "python3"
  },
  "language_info": {
   "codemirror_mode": {
    "name": "ipython",
    "version": 3
   },
   "file_extension": ".py",
   "mimetype": "text/x-python",
   "name": "python",
   "nbconvert_exporter": "python",
   "pygments_lexer": "ipython3",
   "version": "3.11.5"
  }
 },
 "nbformat": 4,
 "nbformat_minor": 5
}
